{
 "cells": [
  {
   "cell_type": "markdown",
   "metadata": {},
   "source": [
    "# piaic-c12_OOP\n",
    "\n",
    "Use the \"Run\" button to execute the code."
   ]
  },
  {
   "cell_type": "code",
   "execution_count": 103,
   "metadata": {},
   "outputs": [],
   "source": [
    "!pip install jovian --upgrade --quiet"
   ]
  },
  {
   "cell_type": "code",
   "execution_count": 104,
   "metadata": {},
   "outputs": [],
   "source": [
    "import jovian"
   ]
  },
  {
   "cell_type": "code",
   "execution_count": 105,
   "metadata": {},
   "outputs": [
    {
     "data": {
      "application/javascript": [
       "window.require && require([\"base/js/namespace\"],function(Jupyter){Jupyter.notebook.save_checkpoint()})"
      ],
      "text/plain": [
       "<IPython.core.display.Javascript object>"
      ]
     },
     "metadata": {},
     "output_type": "display_data"
    },
    {
     "name": "stdout",
     "output_type": "stream",
     "text": [
      "[jovian] Updating notebook \"haiderali605/piaic-c12-oops\" on https://jovian.ai\u001b[0m\n",
      "[jovian] Committed successfully! https://jovian.ai/haiderali605/piaic-c12-oops\u001b[0m\n"
     ]
    },
    {
     "data": {
      "text/plain": [
       "'https://jovian.ai/haiderali605/piaic-c12-oops'"
      ]
     },
     "execution_count": 105,
     "metadata": {},
     "output_type": "execute_result"
    }
   ],
   "source": [
    "# Execute this to save new versions of the notebook\n",
    "jovian.commit(project=\"piaic-c12-OOPS\")"
   ]
  },
  {
   "cell_type": "markdown",
   "metadata": {},
   "source": [
    "## Object Oriented Programmig\n",
    "* Object\n",
    "    * everything in the world whhich has name is object.Object depends on\n",
    "        * Methods (function,procedure,sub routine etc)\n",
    "            *perform any action\n",
    "                * must be change some attribute\n",
    "                * or return something\n",
    "        * Attributes(properties,fileds,characteristics etc)\n",
    "                * store some values for particular time\n",
    "          \n",
    "## Class\n",
    "* Blue Print/Template/model ( don't take memory un less we create an object)\n",
    "* Capitalize each word(Classname)\n",
    "* Constructor(Method/function)\n",
    "    * always call when we create new object\n",
    "    * In old programing languages\n",
    "        * same function name as class\n",
    "     * In python\n",
    "         * `def __init__(self):`\n",
    "         * first argument:\n",
    "             * first argument should be any name\n",
    "                 * always keep this during creating time\n",
    "                 * but always ignore during calling time\n",
    "                 * always manage each object with individual memory blocks\n",
    "                 * self\n",
    "                 * abc\n",
    "                 * xyz\n",
    "                 * etc\n",
    "                 \n",
    "         * all Attribute should be write in constructor body\n",
    "             * `self.attribute_name`\n",
    "             \n",
    "         \n",
    "* Destructor(Method/Function)\n",
    "    * always call when we delete object\n",
    "    \n",
    "        \n",
    "* Method\n",
    "* Attribute\n",
    "* class Variable\n",
    "          \n",
    "                                 "
   ]
  },
  {
   "cell_type": "markdown",
   "metadata": {},
   "source": [
    "### Linear programming\n",
    " ```\n",
    " name= Qasim\n",
    " fname=Aslam\n",
    " edu=MS\n",
    " \n",
    " def name_speak():pass\n",
    " def name_eat():pass\n",
    " ```\n",
    " \n",
    " \n",
    " ```\n",
    " name1= Qasim11\n",
    " fname1=Aslam12\n",
    " edu1=MS11\n",
    " \n",
    " def name1_speak():pass\n",
    " def name1_eat():pass\n",
    " \n",
    " ```\n",
    "Here we can see that we have to write a code for every person.which is hectic and require more storage , as every code need to store at some place,also need huge computational power,also difficult to edit if there are millions,billions of data===>which is the disadvantage of Linear programming\n",
    "\n",
    "so here comes OOPS,where we create a BluePrint(a standard)\n",
    "\n",
    "Example>> LMS system\n",
    "object:Student\n",
    "methods: registration,course selection,assignments submission.fee submission etc\n",
    "Attribute: age, address etc\n",
    "\n",
    "\n",
    "##### Advantages of OOPS\n",
    "* minimize code..Compressed code\n",
    "* minimize computational power\n",
    "* minimize the consumption of storage\n",
    "* DRY> Don't repeat yourself\n",
    "* Easy to manage code\n",
    "\n"
   ]
  },
  {
   "cell_type": "markdown",
   "metadata": {},
   "source": [
    "        \n",
    "## Class\n",
    "* Blue Print/Template/model ( don't take memory un less we create an object)\n",
    "* Capitalize each word(Classname)\n",
    "* Constructor(Method/function)\n",
    "    * always call when we create new object\n",
    "* Destructor(Method/Function)\n",
    "    * always call when we delete object\n",
    "* Method\n",
    "* Attribute\n",
    "* class Variable"
   ]
  },
  {
   "cell_type": "code",
   "execution_count": 40,
   "metadata": {
    "code_folding": []
   },
   "outputs": [],
   "source": [
    "class Student(): #Class\n",
    "    def __init__(self,sid,sname): #constructor method(don't consider this as method,consider it as constructor.)\n",
    "        #self.attribute_name= constructor's_local_variable \n",
    "        self.id=sid \n",
    "        self.name=sname\n",
    "        self.education=None\n",
    "        self.address=None\n",
    "        self.age=None\n",
    "        self.user=sname\n",
    "        self.password=\"123\"\n",
    "       \n",
    "    def login(self,user,pws): #Method(performing action)\n",
    "        if self.user==user and self.password==pws:\n",
    "            return \"Valid User\"\n",
    "        else:\n",
    "            return \"Not Valid user\"\n",
    "        \n",
    "    def display_information(self): # method\n",
    "        cards=f\"\"\"\n",
    "        PIAIC Student Card\n",
    "        Registration No : {self.id}\n",
    "        Name : {self.name}\n",
    "        Education : {self.education}\n",
    "        \n",
    "        \"\"\"\n",
    "        return cards    \n",
    "        "
   ]
  },
  {
   "cell_type": "code",
   "execution_count": 41,
   "metadata": {},
   "outputs": [],
   "source": [
    "s1=Student(1,\"ali\") #classname(arg1,arf2,..) we ignore self argument in calling time\n",
    "s2=Student(2,\"alia\") # create s2 new object.calling constructor and allocating memory\n",
    "s3=Student(3,\"alina\")\n",
    "\n",
    "#s1,s2,s3 objects (s1,s2,s3 are also instance of Student class)\n"
   ]
  },
  {
   "cell_type": "code",
   "execution_count": 42,
   "metadata": {},
   "outputs": [
    {
     "name": "stdout",
     "output_type": "stream",
     "text": [
      "ali 1\n",
      "alia\n"
     ]
    }
   ],
   "source": [
    "#object_name.attributes\n",
    "print(s1.name,s1.id) # call attribute values\n",
    "\n",
    "print(s2.name) #object_name.attributes"
   ]
  },
  {
   "cell_type": "code",
   "execution_count": 43,
   "metadata": {},
   "outputs": [
    {
     "data": {
      "text/plain": [
       "'Not Valid user'"
      ]
     },
     "execution_count": 43,
     "metadata": {},
     "output_type": "execute_result"
    }
   ],
   "source": [
    "s1.login(\"alitt\",'123') #calling object method"
   ]
  },
  {
   "cell_type": "code",
   "execution_count": 44,
   "metadata": {},
   "outputs": [
    {
     "data": {
      "text/plain": [
       "'Valid User'"
      ]
     },
     "execution_count": 44,
     "metadata": {},
     "output_type": "execute_result"
    }
   ],
   "source": [
    "s1.login(\"ali\",\"123\") #calling object method"
   ]
  },
  {
   "cell_type": "code",
   "execution_count": 45,
   "metadata": {},
   "outputs": [
    {
     "data": {
      "text/plain": [
       "'\\n        PIAIC Student Card\\n        Registration No : 1\\n        Name : ali\\n        Education : None\\n        \\n        '"
      ]
     },
     "execution_count": 45,
     "metadata": {},
     "output_type": "execute_result"
    }
   ],
   "source": [
    "s1.display_information()\n"
   ]
  },
  {
   "cell_type": "code",
   "execution_count": 46,
   "metadata": {},
   "outputs": [
    {
     "name": "stdout",
     "output_type": "stream",
     "text": [
      "\n",
      "        PIAIC Student Card\n",
      "        Registration No : 1\n",
      "        Name : ali\n",
      "        Education : None\n",
      "        \n",
      "        \n"
     ]
    }
   ],
   "source": [
    "print(s1.display_information())"
   ]
  },
  {
   "cell_type": "code",
   "execution_count": 48,
   "metadata": {},
   "outputs": [
    {
     "data": {
      "text/plain": [
       "['__class__',\n",
       " '__delattr__',\n",
       " '__dict__',\n",
       " '__dir__',\n",
       " '__doc__',\n",
       " '__eq__',\n",
       " '__format__',\n",
       " '__ge__',\n",
       " '__getattribute__',\n",
       " '__gt__',\n",
       " '__hash__',\n",
       " '__init__',\n",
       " '__init_subclass__',\n",
       " '__le__',\n",
       " '__lt__',\n",
       " '__module__',\n",
       " '__ne__',\n",
       " '__new__',\n",
       " '__reduce__',\n",
       " '__reduce_ex__',\n",
       " '__repr__',\n",
       " '__setattr__',\n",
       " '__sizeof__',\n",
       " '__str__',\n",
       " '__subclasshook__',\n",
       " '__weakref__',\n",
       " 'address',\n",
       " 'age',\n",
       " 'display_information',\n",
       " 'education',\n",
       " 'id',\n",
       " 'login',\n",
       " 'name',\n",
       " 'password',\n",
       " 'user']"
      ]
     },
     "execution_count": 48,
     "metadata": {},
     "output_type": "execute_result"
    }
   ],
   "source": [
    "dir(s1)"
   ]
  },
  {
   "cell_type": "code",
   "execution_count": 49,
   "metadata": {},
   "outputs": [
    {
     "name": "stdout",
     "output_type": "stream",
     "text": [
      "['address', 'age', 'display_information', 'education', 'id', 'login', 'name', 'password', 'user']\n"
     ]
    }
   ],
   "source": [
    "print([i for i in dir(s1) if \"__\" not in i])"
   ]
  },
  {
   "cell_type": "code",
   "execution_count": 52,
   "metadata": {},
   "outputs": [],
   "source": [
    "s1.password=\"abc\"\n"
   ]
  },
  {
   "cell_type": "code",
   "execution_count": 53,
   "metadata": {},
   "outputs": [
    {
     "name": "stdout",
     "output_type": "stream",
     "text": [
      "abc\n"
     ]
    }
   ],
   "source": [
    "print(s1.password)"
   ]
  },
  {
   "cell_type": "markdown",
   "metadata": {},
   "source": [
    "### Class Variable\n",
    "* always create in class body\n",
    "* calling `ClassName.variable_name`\n",
    "* always same value for every object\n"
   ]
  },
  {
   "cell_type": "code",
   "execution_count": 99,
   "metadata": {},
   "outputs": [],
   "source": [
    "class Student(): #Class\n",
    "    counter=0 #class variable\n",
    "    subject=\"Artificial Intelligence\"\n",
    "    def __init__(self,sid,sname): #constructor method(don't consider this as method,consider it as constructor.)\n",
    "        #self.attribute_name= constructor's_local_variable \n",
    "        self.id=sid \n",
    "        self.name=sname\n",
    "        self.education=None\n",
    "        self.address=None\n",
    "        self.age=None\n",
    "        self.user=sname\n",
    "        self.password=\"123\"\n",
    "        Student.counter +=1 # calling class variable(every time new obect is created,counter variable value increase by 1)\n",
    "       \n",
    "    def login(self,user,pws): #Method(performing action)\n",
    "        if self.user==user and self.password==pws:\n",
    "            return \"Valid User\"\n",
    "        else:\n",
    "            return \"Not Valid user\"\n",
    "        \n",
    "    def display_information(self): # method\n",
    "        cards=f\"\"\"\n",
    "        PIAIC Student Card\n",
    "        Registration No : {self.id}\n",
    "        Name : {self.name}\n",
    "        Education : {self.education}\n",
    "        \n",
    "        \"\"\"\n",
    "        return cards    \n",
    "        "
   ]
  },
  {
   "cell_type": "code",
   "execution_count": 100,
   "metadata": {},
   "outputs": [
    {
     "name": "stdout",
     "output_type": "stream",
     "text": [
      "1 1 Ali 1\n",
      "2 Albi 1\n",
      "3 Artificial Intelligence Alia\n"
     ]
    }
   ],
   "source": [
    "s1=Student(1,\"Ali\")\n",
    "print(Student.counter,s1.counter,s1.name,s1.id) # call attribute values\n",
    "\n",
    "s1=Student(1,\"Albi\")\n",
    "print(Student.counter,s1.name,s1.id) # call attribute values\n",
    "\n",
    "\n",
    "s2=Student(2,\"Alia\")\n",
    "print(Student.counter,Student.subject,s2.name) #object_name.attributes"
   ]
  },
  {
   "cell_type": "code",
   "execution_count": 101,
   "metadata": {},
   "outputs": [
    {
     "name": "stdout",
     "output_type": "stream",
     "text": [
      "3\n",
      "3\n"
     ]
    }
   ],
   "source": [
    "print(s1.counter)\n",
    "print(s2.counter)"
   ]
  },
  {
   "cell_type": "code",
   "execution_count": null,
   "metadata": {},
   "outputs": [],
   "source": []
  },
  {
   "cell_type": "code",
   "execution_count": null,
   "metadata": {},
   "outputs": [],
   "source": []
  }
 ],
 "metadata": {
  "kernelspec": {
   "display_name": "Python 3 (ipykernel)",
   "language": "python",
   "name": "python3"
  },
  "language_info": {
   "codemirror_mode": {
    "name": "ipython",
    "version": 3
   },
   "file_extension": ".py",
   "mimetype": "text/x-python",
   "name": "python",
   "nbconvert_exporter": "python",
   "pygments_lexer": "ipython3",
   "version": "3.9.6"
  }
 },
 "nbformat": 4,
 "nbformat_minor": 2
}
