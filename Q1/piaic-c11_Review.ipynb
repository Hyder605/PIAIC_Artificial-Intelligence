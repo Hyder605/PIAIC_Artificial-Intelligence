{
 "cells": [
  {
   "cell_type": "markdown",
   "metadata": {},
   "source": [
    "# piaic-c11_Review\n",
    "\n",
    "Use the \"Run\" button to execute the code."
   ]
  },
  {
   "cell_type": "code",
   "execution_count": 105,
   "metadata": {},
   "outputs": [],
   "source": [
    "!pip install jovian --upgrade --quiet"
   ]
  },
  {
   "cell_type": "code",
   "execution_count": 106,
   "metadata": {},
   "outputs": [],
   "source": [
    "import jovian"
   ]
  },
  {
   "cell_type": "code",
   "execution_count": 107,
   "metadata": {},
   "outputs": [
    {
     "data": {
      "application/javascript": [
       "window.require && require([\"base/js/namespace\"],function(Jupyter){Jupyter.notebook.save_checkpoint()})"
      ],
      "text/plain": [
       "<IPython.core.display.Javascript object>"
      ]
     },
     "metadata": {},
     "output_type": "display_data"
    },
    {
     "name": "stdout",
     "output_type": "stream",
     "text": [
      "[jovian] Updating notebook \"haiderali605/piaic-c11-review\" on https://jovian.ai\u001b[0m\n",
      "[jovian] Committed successfully! https://jovian.ai/haiderali605/piaic-c11-review\u001b[0m\n"
     ]
    },
    {
     "data": {
      "text/plain": [
       "'https://jovian.ai/haiderali605/piaic-c11-review'"
      ]
     },
     "execution_count": 107,
     "metadata": {},
     "output_type": "execute_result"
    }
   ],
   "source": [
    "# Execute this to save new versions of the notebook\n",
    "jovian.commit(project=\"piaic-c11_Review\")"
   ]
  },
  {
   "cell_type": "code",
   "execution_count": 21,
   "metadata": {},
   "outputs": [
    {
     "name": "stdout",
     "output_type": "stream",
     "text": [
      "8\n",
      "10\n"
     ]
    }
   ],
   "source": [
    "a=10\n",
    "def abc():\n",
    "    a=8   #Local Variable\n",
    "    return a\n",
    "\n",
    "print(abc())\n",
    "print(a)"
   ]
  },
  {
   "cell_type": "code",
   "execution_count": 22,
   "metadata": {},
   "outputs": [
    {
     "name": "stdout",
     "output_type": "stream",
     "text": [
      "8\n",
      "8\n"
     ]
    }
   ],
   "source": [
    "a=10\n",
    "def abc():\n",
    "    global a    #Global Variable/updating value of variable from 7 t0 8\n",
    "    a=8\n",
    "    return a\n",
    "\n",
    "\n",
    "print(abc())\n",
    "print(a)"
   ]
  },
  {
   "cell_type": "code",
   "execution_count": 24,
   "metadata": {},
   "outputs": [
    {
     "name": "stdout",
     "output_type": "stream",
     "text": [
      "9\n",
      "7\n"
     ]
    }
   ],
   "source": [
    "a=7   #Global variable\n",
    "def abc():\n",
    "    a=9  #local variable\n",
    "    return a\n",
    "\n",
    "def xyz():\n",
    "    return a\n",
    "\n",
    "print(abc())\n",
    "print(xyz())"
   ]
  },
  {
   "cell_type": "code",
   "execution_count": 25,
   "metadata": {},
   "outputs": [
    {
     "data": {
      "text/plain": [
       "True"
      ]
     },
     "execution_count": 25,
     "metadata": {},
     "output_type": "execute_result"
    }
   ],
   "source": [
    "a=5\n",
    "b=5\n",
    "\n",
    "a==b #compare values"
   ]
  },
  {
   "cell_type": "code",
   "execution_count": 26,
   "metadata": {},
   "outputs": [
    {
     "data": {
      "text/plain": [
       "True"
      ]
     },
     "execution_count": 26,
     "metadata": {},
     "output_type": "execute_result"
    }
   ],
   "source": [
    "a is b #compare object"
   ]
  },
  {
   "cell_type": "code",
   "execution_count": 32,
   "metadata": {},
   "outputs": [
    {
     "name": "stdout",
     "output_type": "stream",
     "text": [
      "139715050129904\n",
      "139715050129904\n"
     ]
    }
   ],
   "source": [
    "x=7\n",
    "y=7\n",
    "print(id(x))\n",
    "print(id(y))\n",
    "\n",
    "#same object?same ID /same storage"
   ]
  },
  {
   "cell_type": "code",
   "execution_count": 33,
   "metadata": {},
   "outputs": [
    {
     "name": "stdout",
     "output_type": "stream",
     "text": [
      "139715050129904\n",
      "139715050129936\n"
     ]
    }
   ],
   "source": [
    "x=7\n",
    "y=8\n",
    "print(id(x))\n",
    "print(id(y))\n",
    "\n",
    "#different object/differnt storage"
   ]
  },
  {
   "cell_type": "markdown",
   "metadata": {},
   "source": [
    "### Python compile() function takes source code as input and returns a code object which is ready to be executed and which can later be executed by the exec() function.\n",
    "\n",
    "    * Syntax compile(source, filename, mode, flags=0, dont_inherit=False, optimize=-1)\n",
    "\n",
    "    * Parameters:\n",
    "\n",
    "    * Source – It can be a normal string, a byte string, or an AST object\n",
    "    * Filename -This is the file from which the code was read. If it wasn’t read from a file, you can give a name yourself.\n",
    "    * Mode – Mode can be exec, eval or single.\n",
    "    * a. eval – If the source is a single expression.\n",
    "    * b. exec – It can take a block of a code that has Python statements, class and functions and so on.\n",
    "    * c. single – It is used if consists of a single interactive statement\n",
    "    * Flags (optional) and dont_inherit (optional) – Default value=0. It takes care that which future statements affect the compilation of the source.\n",
    "    * Optimize (optional) – It tells optimization level of compiler. Default value -1.\n"
   ]
  },
  {
   "cell_type": "code",
   "execution_count": 35,
   "metadata": {},
   "outputs": [
    {
     "name": "stdout",
     "output_type": "stream",
     "text": [
      "15\n"
     ]
    }
   ],
   "source": [
    "x= \"\"\"\n",
    "a=7\n",
    "b=8\n",
    "print(a+b)\n",
    "\"\"\"\n",
    "\n",
    "result=compile(x,\"aaa\",'exec')\n",
    "exec(result)"
   ]
  },
  {
   "cell_type": "code",
   "execution_count": 36,
   "metadata": {},
   "outputs": [],
   "source": [
    "#for loop ----> better to use for # fixed iteration \n",
    "#while loop-----> better to use when # depend on conditon/condition based ho"
   ]
  },
  {
   "cell_type": "code",
   "execution_count": 40,
   "metadata": {},
   "outputs": [
    {
     "data": {
      "text/plain": [
       "{1, 2, 3, 6, 45}"
      ]
     },
     "execution_count": 40,
     "metadata": {},
     "output_type": "execute_result"
    }
   ],
   "source": [
    "numbers=[1,2,3,45,6,6,6]\n",
    "set(numbers)\n"
   ]
  },
  {
   "cell_type": "code",
   "execution_count": 41,
   "metadata": {},
   "outputs": [],
   "source": [
    "#in dict key can be string or integer\n",
    "#in dict values can be anything, list,int,string,tuple,dict etc\n",
    "#asi koi b type jo hashable ma convert hostkhti ha wo as key use ho sakhti hai\n"
   ]
  },
  {
   "cell_type": "code",
   "execution_count": null,
   "metadata": {},
   "outputs": [],
   "source": []
  },
  {
   "cell_type": "code",
   "execution_count": 47,
   "metadata": {},
   "outputs": [
    {
     "data": {
      "text/plain": [
       "dict_items([(1, 'man'), (2, 'women')])"
      ]
     },
     "execution_count": 47,
     "metadata": {},
     "output_type": "execute_result"
    }
   ],
   "source": [
    "d={\n",
    "    1:\"man\",\n",
    "    2:\"women\"\n",
    "    \n",
    "}\n",
    "\n",
    "d.items()"
   ]
  },
  {
   "cell_type": "code",
   "execution_count": 48,
   "metadata": {},
   "outputs": [
    {
     "data": {
      "text/plain": [
       "dict_keys([1, 2])"
      ]
     },
     "execution_count": 48,
     "metadata": {},
     "output_type": "execute_result"
    }
   ],
   "source": [
    "d.keys()"
   ]
  },
  {
   "cell_type": "code",
   "execution_count": 49,
   "metadata": {},
   "outputs": [
    {
     "data": {
      "text/plain": [
       "dict_values(['man', 'women'])"
      ]
     },
     "execution_count": 49,
     "metadata": {},
     "output_type": "execute_result"
    }
   ],
   "source": [
    "d.values()"
   ]
  },
  {
   "cell_type": "code",
   "execution_count": 98,
   "metadata": {},
   "outputs": [
    {
     "data": {
      "text/plain": [
       "'A'"
      ]
     },
     "execution_count": 98,
     "metadata": {},
     "output_type": "execute_result"
    }
   ],
   "source": [
    "#list of dictionary\n",
    "\n",
    "s1=[{\n",
    "    \"id\":1,\n",
    "    \"name\":\"A\"},\n",
    "\n",
    "\n",
    "{\"id\":2,\n",
    "\"name\":\"B\"\n",
    "    \n",
    "}]\n",
    "\n",
    "\n",
    "s1[0][\"name\"]"
   ]
  },
  {
   "cell_type": "markdown",
   "metadata": {},
   "source": [
    "##### Object-oriented programming (OOP) is a computer programming model that organizes software design around data, or objects, rather than functions and logic. An object can be defined as a data field that has unique attributes and behavior."
   ]
  },
  {
   "cell_type": "markdown",
   "metadata": {},
   "source": [
    "```\n",
    "#Linear Programming\n",
    "    #need to write code  for every instruction\n",
    "    #e.g print 10 times pakistan u need to write 10 times code\n",
    "#Structured Programming \n",
    "    # e.g print 10 times\"pakistan.use for loop in one line\n",
    "\n",
    "#Object oriented programing\n",
    "    #provide you a blue print \n",
    "    \n",
    "```    "
   ]
  },
  {
   "cell_type": "markdown",
   "metadata": {},
   "source": [
    "\n",
    "### method>>>>... performing action\n",
    "### Attribute>>> not performing action ,\n",
    "\n",
    "```\n",
    "   * e.g object : Mobile\n",
    "      attribute>> color, ram,\n",
    "       method>>> calling, messaging etc \n",
    "    \n",
    "    * object : car\n",
    "        attribute>> wheel size, size etc\n",
    "        mmethod>> accelerator etc\n",
    "        \n",
    "```        "
   ]
  },
  {
   "cell_type": "code",
   "execution_count": null,
   "metadata": {},
   "outputs": [],
   "source": []
  }
 ],
 "metadata": {
  "kernelspec": {
   "display_name": "Python 3 (ipykernel)",
   "language": "python",
   "name": "python3"
  },
  "language_info": {
   "codemirror_mode": {
    "name": "ipython",
    "version": 3
   },
   "file_extension": ".py",
   "mimetype": "text/x-python",
   "name": "python",
   "nbconvert_exporter": "python",
   "pygments_lexer": "ipython3",
   "version": "3.9.6"
  }
 },
 "nbformat": 4,
 "nbformat_minor": 2
}
