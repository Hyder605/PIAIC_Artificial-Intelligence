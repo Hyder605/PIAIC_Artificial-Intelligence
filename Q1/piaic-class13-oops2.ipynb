{
 "cells": [
  {
   "cell_type": "markdown",
   "metadata": {},
   "source": [
    "# piaic-class13-oops2\n",
    "\n",
    "Use the \"Run\" button to execute the code."
   ]
  },
  {
   "cell_type": "code",
   "execution_count": 1,
   "metadata": {},
   "outputs": [],
   "source": [
    "!pip install jovian --upgrade --quiet"
   ]
  },
  {
   "cell_type": "code",
   "execution_count": 2,
   "metadata": {},
   "outputs": [],
   "source": [
    "import jovian"
   ]
  },
  {
   "cell_type": "code",
   "execution_count": 3,
   "metadata": {},
   "outputs": [
    {
     "data": {
      "application/javascript": [
       "window.require && require([\"base/js/namespace\"],function(Jupyter){Jupyter.notebook.save_checkpoint()})"
      ],
      "text/plain": [
       "<IPython.core.display.Javascript object>"
      ]
     },
     "metadata": {},
     "output_type": "display_data"
    },
    {
     "name": "stdout",
     "output_type": "stream",
     "text": [
      "[jovian] Updating notebook \"haiderali605/piaic-class13-oops2\" on https://jovian.ai\u001b[0m\n",
      "[jovian] Committed successfully! https://jovian.ai/haiderali605/piaic-class13-oops2\u001b[0m\n"
     ]
    },
    {
     "data": {
      "text/plain": [
       "'https://jovian.ai/haiderali605/piaic-class13-oops2'"
      ]
     },
     "execution_count": 3,
     "metadata": {},
     "output_type": "execute_result"
    }
   ],
   "source": [
    "# Execute this to save new versions of the notebook\n",
    "jovian.commit(project=\"piaic-class13-oops2\")"
   ]
  },
  {
   "cell_type": "code",
   "execution_count": 4,
   "metadata": {},
   "outputs": [],
   "source": [
    "class Student(): #Class\n",
    "    counter=0 #class variable\n",
    "    subject=\"Artificial Intelligence\"\n",
    "    def __init__(self,sid,sname): #constructor method(don't consider this as method,consider it as constructor.)\n",
    "        #self.attribute_name= constructor's_local_variable \n",
    "        self.id=sid \n",
    "        self.name=sname\n",
    "        self.education=None\n",
    "        self.address=None\n",
    "        self.age=None\n",
    "        self.user=sname\n",
    "        self.password=\"123\"\n",
    "        Student.counter +=1 # calling class variable(every time new obect is created,counter variable value increase by 1)\n",
    "       \n",
    "    def login(self,user,pws): #Method(performing action)\n",
    "        if self.user==user and self.password==pws:\n",
    "            return \"Valid User\"\n",
    "        else:\n",
    "            return \"Not Valid user\"\n",
    "        \n",
    "    def display_information(self): # method\n",
    "        cards=f\"\"\"\n",
    "        PIAIC Student Card\n",
    "        Registration No : {self.id}\n",
    "        Name : {self.name}\n",
    "        Education : {self.education}\n",
    "        \n",
    "        \"\"\"\n",
    "        return cards    \n",
    "        "
   ]
  },
  {
   "cell_type": "markdown",
   "metadata": {},
   "source": [
    "### 4 Pillars of OOPS\n",
    "* Inheritance\n",
    "* Abstraction\n",
    "* Encapsulation\n",
    "* Polymorphism"
   ]
  },
  {
   "cell_type": "markdown",
   "metadata": {},
   "source": [
    "### Inheritance\n",
    "\n",
    "** Inheritance allows us to define a class that inherits all the methods and properties from another class.\n",
    "\n",
    "** Parent class is the class being inherited from, also called base class.\n",
    "\n",
    "** Child class is the class that inherits from another class, also called derived class."
   ]
  },
  {
   "cell_type": "code",
   "execution_count": 10,
   "metadata": {},
   "outputs": [],
   "source": [
    "class Parent():\n",
    "    def __init__(self):\n",
    "        self.id= None\n",
    "        self.name=None\n",
    "        self.f_name=None\n",
    "        \n",
    "    def eat(self,food):\n",
    "        return f\"{self.name} is eating {food}\"\n",
    "     \n",
    "    def speak(self,words,language=\"Urdu\"):\n",
    "        return f\"{words} language = {language}\"\n",
    "        \n",
    "    \n",
    "    \n",
    "class Child(Parent):\n",
    "    pass"
   ]
  },
  {
   "cell_type": "code",
   "execution_count": 15,
   "metadata": {},
   "outputs": [
    {
     "name": "stdout",
     "output_type": "stream",
     "text": [
      "1\n",
      "Qasim\n",
      "Aslam\n",
      "Qasim is eating pizza\n",
      "Pakistani language = Urdu\n"
     ]
    }
   ],
   "source": [
    "p1=Parent()\n",
    "p1.id=1\n",
    "p1.name=\"Qasim\"\n",
    "p1.fname=\"Aslam\"\n",
    "\n",
    "print(p1.id)\n",
    "print(p1.name)\n",
    "print(p1.fname)\n",
    "print(p1.eat(\"pizza\"))\n",
    "print(p1.speak(\"Pakistani\"))"
   ]
  },
  {
   "cell_type": "code",
   "execution_count": 13,
   "metadata": {},
   "outputs": [
    {
     "name": "stdout",
     "output_type": "stream",
     "text": [
      "1\n",
      "ali\n",
      "Arsalan\n",
      "ali is eating biryani\n"
     ]
    }
   ],
   "source": [
    "c1=Child() #child class instance(object)\n",
    "c1.id=1\n",
    "c1.name=\"ali\"\n",
    "c1.fname=\"Arsalan\"\n",
    "\n",
    "print(c1.id)\n",
    "print(c1.name)\n",
    "print(c1.fname)\n",
    "print(c1.eat(\"biryani\"))"
   ]
  },
  {
   "cell_type": "markdown",
   "metadata": {},
   "source": [
    " ### Inheritance Example 2\n",
    "  ** Adding some methods in Child class"
   ]
  },
  {
   "cell_type": "code",
   "execution_count": 25,
   "metadata": {},
   "outputs": [],
   "source": [
    "class Parent():\n",
    "    def __init__(self):\n",
    "        self.id= None\n",
    "        self.name=None\n",
    "        self.f_name=None\n",
    "        \n",
    "    def eat(self,food):\n",
    "        return f\"{self.name} is eating {food}\"\n",
    "     \n",
    "    def speak(self,words,language=\"Urdu\"):\n",
    "        return f\"{words} language = {language}\"\n",
    "        \n",
    "    \n",
    "    \n",
    "class Child(Parent): # adding extra methods in  child class\n",
    "    def walk(self,distance):\n",
    "        return f\"{self.name} has covered {distance}\"\n",
    "    def play(self,game):\n",
    "        return f\"{self.name} is palying {game}\""
   ]
  },
  {
   "cell_type": "code",
   "execution_count": 23,
   "metadata": {},
   "outputs": [
    {
     "name": "stdout",
     "output_type": "stream",
     "text": [
      "['eat', 'id', 'name', 'speak']\n"
     ]
    }
   ],
   "source": [
    "p1=Parent()\n",
    "#methods and attributes\n",
    "print([i for i in dir(p1) if \"_\" not in i]) "
   ]
  },
  {
   "cell_type": "code",
   "execution_count": 24,
   "metadata": {},
   "outputs": [
    {
     "name": "stdout",
     "output_type": "stream",
     "text": [
      "['eat', 'id', 'name', 'play', 'speak', 'walk']\n"
     ]
    }
   ],
   "source": [
    "c1=Child()\n",
    "print([i for i in dir(c1) if \"_\" not in i])"
   ]
  },
  {
   "cell_type": "markdown",
   "metadata": {},
   "source": [
    "### Inheritance example 3\n",
    "** Adding some <b>Attributes</b> in Child Class\n",
    "\n",
    "** to add additional attributes you have to fetch the attributes of parent class by calling ```__init__``` by using \"super\"\n",
    "    \n",
    "    *super(). parent methods()\n",
    "\n",
    "** If you need only parent attributes and don't need to add some extra/additional Attributes in Child class then you don't need to do the above step of calling ```__init__```"
   ]
  },
  {
   "cell_type": "code",
   "execution_count": 28,
   "metadata": {},
   "outputs": [],
   "source": [
    "class Parent():\n",
    "    def __init__(self):\n",
    "        self.id= None\n",
    "        self.name=None\n",
    "        self.f_name=None\n",
    "        \n",
    "    def eat(self,food):\n",
    "        return f\"{self.name} is eating {food}\"\n",
    "     \n",
    "    def speak(self,words,language=\"Urdu\"):\n",
    "        return f\"{words} language = {language}\"\n",
    "        \n",
    "    \n",
    "    \n",
    "class Child(Parent):\n",
    "    def __init__(self): #create new child constructor\n",
    "        super().__init__() #Super>>fetching data from Parent class hierarchy(here we are fetching __init__  from Parent class.also we ignore (self) in calling )\n",
    "        self.education=None #adding new/additional attributes\n",
    "        self.height=None\n",
    "        \n",
    "# Ctrl + / >>>> comment for all selected        \n",
    "#     def walk(self,distance):\n",
    "#         return f\"{self.name} has covered {distance}\"\n",
    "#     def play(self,game):\n",
    "#         return f\"{self.name} is palying {game}\"\n",
    "    \n",
    "    "
   ]
  },
  {
   "cell_type": "code",
   "execution_count": 29,
   "metadata": {},
   "outputs": [
    {
     "name": "stdout",
     "output_type": "stream",
     "text": [
      "['eat', 'id', 'name', 'speak']\n"
     ]
    }
   ],
   "source": [
    "p1=Parent()\n",
    "#methods and attributes\n",
    "print([i for i in dir(p1) if \"_\" not in i])"
   ]
  },
  {
   "cell_type": "code",
   "execution_count": 30,
   "metadata": {},
   "outputs": [
    {
     "name": "stdout",
     "output_type": "stream",
     "text": [
      "['eat', 'education', 'height', 'id', 'name', 'speak']\n"
     ]
    }
   ],
   "source": [
    "c1=Child()\n",
    "#methods and attributes\n",
    "print([i for i in dir(c1) if \"_\" not in i])"
   ]
  },
  {
   "cell_type": "code",
   "execution_count": 33,
   "metadata": {},
   "outputs": [
    {
     "name": "stdout",
     "output_type": "stream",
     "text": [
      "Ali\n"
     ]
    }
   ],
   "source": [
    "p1.name=\"Ali\"\n",
    "print(p1.name)"
   ]
  },
  {
   "cell_type": "code",
   "execution_count": 34,
   "metadata": {},
   "outputs": [
    {
     "ename": "AttributeError",
     "evalue": "'Parent' object has no attribute 'height'",
     "output_type": "error",
     "traceback": [
      "\u001b[0;31m---------------------------------------------------------------------------\u001b[0m",
      "\u001b[0;31mAttributeError\u001b[0m                            Traceback (most recent call last)",
      "\u001b[0;32m/tmp/ipykernel_39/3323183318.py\u001b[0m in \u001b[0;36m<module>\u001b[0;34m\u001b[0m\n\u001b[0;32m----> 1\u001b[0;31m \u001b[0mp1\u001b[0m\u001b[0;34m.\u001b[0m\u001b[0mheight\u001b[0m\u001b[0;34m\u001b[0m\u001b[0;34m\u001b[0m\u001b[0m\n\u001b[0m",
      "\u001b[0;31mAttributeError\u001b[0m: 'Parent' object has no attribute 'height'"
     ]
    }
   ],
   "source": [
    "p1.height"
   ]
  },
  {
   "cell_type": "code",
   "execution_count": 39,
   "metadata": {},
   "outputs": [
    {
     "name": "stdout",
     "output_type": "stream",
     "text": [
      "6.2 feet\n"
     ]
    }
   ],
   "source": [
    "c1.height=\"6.2 feet\"\n",
    "\n",
    "print(c1.height)"
   ]
  },
  {
   "cell_type": "code",
   "execution_count": 40,
   "metadata": {},
   "outputs": [],
   "source": [
    "class Parent():\n",
    "    def __init__(self):\n",
    "        self.id= None\n",
    "        self.name=None\n",
    "        self.f_name=None\n",
    "        \n",
    "    def eat(self,food):\n",
    "        return f\"{self.name} is eating {food}\"\n",
    "     \n",
    "    def speak(self,words,language=\"Urdu\"):\n",
    "        return f\"{words} language = {language}\"\n",
    "        \n",
    "    \n",
    "    \n",
    "class Child(Parent):\n",
    "    def __init__(self): #create new child constructor\n",
    "        super().__init__() #Super>>fetching data from Parent class hierarchy(here we are fetching __init__  from Parent class.also we ignore (self) in calling )\n",
    "        self.education=None #adding new/additional attributes\n",
    "        self.height=None\n",
    "        \n",
    "    def play(self,game):\n",
    "         return f\"{self.name} is palying {game}\"\n",
    "    \n",
    "    "
   ]
  },
  {
   "cell_type": "code",
   "execution_count": 41,
   "metadata": {},
   "outputs": [
    {
     "name": "stdout",
     "output_type": "stream",
     "text": [
      "['eat', 'education', 'height', 'id', 'name', 'play', 'speak']\n"
     ]
    }
   ],
   "source": [
    "c1=Child()\n",
    "#methods and attributes\n",
    "print([i for i in dir(c1) if \"_\" not in i])"
   ]
  },
  {
   "cell_type": "code",
   "execution_count": 42,
   "metadata": {},
   "outputs": [],
   "source": [
    "c1.name=\"alina\""
   ]
  },
  {
   "cell_type": "code",
   "execution_count": 43,
   "metadata": {},
   "outputs": [
    {
     "name": "stdout",
     "output_type": "stream",
     "text": [
      "alina\n"
     ]
    }
   ],
   "source": [
    "print(c1.name)"
   ]
  },
  {
   "cell_type": "code",
   "execution_count": null,
   "metadata": {},
   "outputs": [],
   "source": [
    "#from chat box >>attendence\n",
    "```import re\n",
    "    numbers = list(set(re.findall(r'(\\d{5,6})\\b',x)))\n",
    "    print(len(numbers))      # (\\d=numbers) (\\b= ending digit should be 5or 6 digits) ('x'=variable)"
   ]
  },
  {
   "cell_type": "markdown",
   "metadata": {},
   "source": [
    "### Multi Level Inheritance\n",
    "    * 1 to Many\n",
    "    * inherit data from from two class parent"
   ]
  },
  {
   "cell_type": "code",
   "execution_count": 51,
   "metadata": {},
   "outputs": [],
   "source": [
    "class Father(): #Parent Class 1\n",
    "    def __init__(self,name):\n",
    "        self.name=name\n",
    "        self.fname=None\n",
    "        self.color=\"white\"\n",
    "        self.hair_color=\"dark\"\n",
    "        \n",
    "    def speak(self):\n",
    "        return \"hello\"\n",
    "class Mother(): #Parent Class 2\n",
    "    def __init__(self):\n",
    "        self.height='6 feet'\n",
    "        self.color='gray'\n",
    "     \n",
    "    def silent(self):\n",
    "        return \"shuussh\"\n",
    "     \n",
    "\n",
    "class Child(Father,Mother):\n",
    "    pass"
   ]
  },
  {
   "cell_type": "code",
   "execution_count": 52,
   "metadata": {},
   "outputs": [
    {
     "name": "stdout",
     "output_type": "stream",
     "text": [
      "['color', 'fname', 'hair_color', 'name', 'silent', 'speak']\n"
     ]
    }
   ],
   "source": [
    "c1=Child(\"Ali\")\n",
    "print([i for i in dir(c1) if \"__\" not in i])\n"
   ]
  },
  {
   "cell_type": "code",
   "execution_count": 53,
   "metadata": {},
   "outputs": [],
   "source": [
    "class Father(): #Parent Class 1\n",
    "    def __init__(self):\n",
    "        self.name=None\n",
    "        self.fname=None\n",
    "        self.color=\"white\"\n",
    "        self.hair_color=\"dark\"\n",
    "        \n",
    "    def speak(self):\n",
    "        return \"hello\"\n",
    "class Mother(): #Parent Class 2\n",
    "    def __init__(self):\n",
    "        self.height='6 feet'\n",
    "        self.color='gray'\n",
    "     \n",
    "    def silent(self):\n",
    "        return \"shuussh\"\n",
    "     \n",
    "\n",
    "class Child(Mother,Father):\n",
    "    pass"
   ]
  },
  {
   "cell_type": "code",
   "execution_count": 54,
   "metadata": {},
   "outputs": [
    {
     "name": "stdout",
     "output_type": "stream",
     "text": [
      "['color', 'height', 'silent', 'speak']\n"
     ]
    }
   ],
   "source": [
    "c1=Child()\n",
    "print([i for i in dir(c1) if \"__\" not in i])"
   ]
  },
  {
   "cell_type": "code",
   "execution_count": null,
   "metadata": {},
   "outputs": [],
   "source": []
  },
  {
   "cell_type": "markdown",
   "metadata": {},
   "source": [
    " ## Polymorphism\n",
    "if object behave multiple behaviours,with same method name or operator\n",
    "\n",
    "* Overloading\n",
    "    * different behaviour within same class(e.g: speaking class>>chinese,english urdu)\n",
    "    * method name same but pass arguments with different data types or numbers of arguments veriation, pass 1 or many\n",
    "    \n",
    "     * old programming syntax <br>\n",
    "    def add(int num1, int num2): reutrn num1+num2 <br>\n",
    "    def add(float num1, float num2): reutrn num1+num2 <br>\n",
    "    def add(int num1, float num2): reutrn num1+num2 <br>\n",
    "    def add(float num1, int num2): reutrn num1+num2 <br>\n",
    "    \n",
    "* Overriding\n",
    "    * different behaviour with parent and child(e.g learning new thing which is not taken from parent\n",
    "    \n"
   ]
  },
  {
   "cell_type": "code",
   "execution_count": 72,
   "metadata": {},
   "outputs": [
    {
     "data": {
      "text/plain": [
       "9"
      ]
     },
     "execution_count": 72,
     "metadata": {},
     "output_type": "execute_result"
    }
   ],
   "source": [
    "a=1\n",
    "a=9\n",
    "a #overloading in a"
   ]
  },
  {
   "cell_type": "code",
   "execution_count": 75,
   "metadata": {},
   "outputs": [
    {
     "data": {
      "text/plain": [
       "7"
      ]
     },
     "execution_count": 75,
     "metadata": {},
     "output_type": "execute_result"
    }
   ],
   "source": [
    "a=[1,3]\n",
    "\n",
    "a=[3,4]\n",
    "sum(a) # same function but values overloading"
   ]
  },
  {
   "cell_type": "code",
   "execution_count": 60,
   "metadata": {},
   "outputs": [
    {
     "name": "stdout",
     "output_type": "stream",
     "text": [
      "6\n",
      "19.2\n",
      "15\n"
     ]
    }
   ],
   "source": [
    "#OVERLOADING\n",
    "class Mymath():\n",
    "    def my_sum(self,*num): #overloading(this function is performing multiple funtion with different number of arguments)\n",
    "        return sum(num)\n",
    "m1=Mymath()\n",
    "print(m1.my_sum(1,2,3)) #two\n",
    "print(m1.my_sum(1,5,5.2,5,3)) #five\n",
    "print(m1.my_sum(12,3)) #two\n",
    "\n",
    "        "
   ]
  },
  {
   "cell_type": "code",
   "execution_count": 66,
   "metadata": {},
   "outputs": [
    {
     "name": "stdout",
     "output_type": "stream",
     "text": [
      "6\n",
      "19.2\n",
      "15\n"
     ]
    }
   ],
   "source": [
    "class Mymath():\n",
    "    def my_sum(self,*num): #overloading(this function is performing multiple funtion with different number of arguments)\n",
    "        return sum(num)\n",
    "    def __del__(self): ##Destructor (call when an oject is delete)\n",
    "        return print(\"Pakistan Zindabad\")\n",
    "    \n",
    "m1=Mymath()\n",
    "print(m1.my_sum(1,2,3)) #two\n",
    "print(m1.my_sum(1,5,5.2,5,3)) #five\n",
    "print(m1.my_sum(12,3)) #two\n"
   ]
  },
  {
   "cell_type": "code",
   "execution_count": 67,
   "metadata": {},
   "outputs": [
    {
     "name": "stdout",
     "output_type": "stream",
     "text": [
      "Pakistan Zindabad\n"
     ]
    }
   ],
   "source": [
    "del m1"
   ]
  },
  {
   "cell_type": "code",
   "execution_count": 68,
   "metadata": {},
   "outputs": [],
   "source": [
    "#Attribute har class ka apna zati hota ha\n",
    "#class variable> tumam class ky lia same e.g:AIC class timing\n"
   ]
  },
  {
   "cell_type": "code",
   "execution_count": 69,
   "metadata": {},
   "outputs": [
    {
     "data": {
      "text/plain": [
       "'Pakistan!'"
      ]
     },
     "execution_count": 69,
     "metadata": {},
     "output_type": "execute_result"
    }
   ],
   "source": [
    "#OVERRIDING\n",
    "\n",
    "class Mother():\n",
    "    def speak(self):### parent method\n",
    "        return \"hello!\" ### original line\n",
    "\n",
    "class Child(Mother):\n",
    "    def speak(self):### child method overriding\n",
    "        return \"Pakistan!\"# update line\n",
    "    class SubChild():\n",
    "        pass\n",
    "\n",
    "\n",
    "c1 = Child()\n",
    "c1.speak()"
   ]
  },
  {
   "cell_type": "code",
   "execution_count": 63,
   "metadata": {},
   "outputs": [
    {
     "data": {
      "text/plain": [
       "'hello!'"
      ]
     },
     "execution_count": 63,
     "metadata": {},
     "output_type": "execute_result"
    }
   ],
   "source": [
    "m1 = Mother()\n",
    "m1.speak()"
   ]
  },
  {
   "cell_type": "code",
   "execution_count": 71,
   "metadata": {},
   "outputs": [
    {
     "data": {
      "text/plain": [
       "9"
      ]
     },
     "execution_count": 71,
     "metadata": {},
     "output_type": "execute_result"
    }
   ],
   "source": [
    "a=1\n",
    "a=9\n",
    "a"
   ]
  },
  {
   "cell_type": "code",
   "execution_count": null,
   "metadata": {},
   "outputs": [],
   "source": []
  }
 ],
 "metadata": {
  "kernelspec": {
   "display_name": "Python 3 (ipykernel)",
   "language": "python",
   "name": "python3"
  },
  "language_info": {
   "codemirror_mode": {
    "name": "ipython",
    "version": 3
   },
   "file_extension": ".py",
   "mimetype": "text/x-python",
   "name": "python",
   "nbconvert_exporter": "python",
   "pygments_lexer": "ipython3",
   "version": "3.9.6"
  }
 },
 "nbformat": 4,
 "nbformat_minor": 2
}
