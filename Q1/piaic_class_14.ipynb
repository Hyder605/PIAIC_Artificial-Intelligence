{
 "cells": [
  {
   "cell_type": "code",
   "execution_count": 4,
   "id": "7085753e",
   "metadata": {},
   "outputs": [],
   "source": [
    "!pip install jovian --upgrade --quiet\n",
    "import jovian\n",
    "# Execute this to save new versions of the notebook\n",
    "jovian.commit(project=\"piaic_class_14\")"
   ]
  },
  {
   "cell_type": "markdown",
   "id": "e05d69b1",
   "metadata": {},
   "source": [
    "## Encapsulation\n",
    "\n",
    "\n",
    "* ```Capsule ma jo chezz hai wo band ha aor private hai.Capsule ky andr jo b formula hai wo private hai aor koi b bnda usko access/update nhi krskhta is Encapuslation kehty hn```\n",
    "* private variables or methods we can access within a class or use through inheritance, its never accessible outside of the class.If you want to access outside of the class then we have to create <i>setter</i> and <i>getter</i> functions/methods.\n",
    "    * methods\n",
    "    * Attributes\n",
    "* If you want to make any attributes/methods private use double underscore before it's naming.\n",
    "    ```\n",
    "    self.__password =\"123\"\n",
    "    ```\n",
    "    "
   ]
  },
  {
   "cell_type": "code",
   "execution_count": 2,
   "id": "750edf66",
   "metadata": {},
   "outputs": [],
   "source": [
    "class Facebook():\n",
    "    def __init__(self,user):\n",
    "        self.user=user #Public\n",
    "        self.__password=\"123\" #private\n",
    "        self.__email=None #Private\n",
    "\n",
    "u1=Facebook(\"ALi\")\n",
    "u2=Facebook(\"Asif\")"
   ]
  },
  {
   "cell_type": "code",
   "execution_count": 3,
   "id": "3659c8a6",
   "metadata": {},
   "outputs": [
    {
     "data": {
      "text/plain": [
       "'ALi'"
      ]
     },
     "execution_count": 3,
     "metadata": {},
     "output_type": "execute_result"
    }
   ],
   "source": [
    "u1.user #Public,so it is accessible"
   ]
  },
  {
   "cell_type": "code",
   "execution_count": 4,
   "id": "9d46942b",
   "metadata": {},
   "outputs": [
    {
     "ename": "AttributeError",
     "evalue": "'Facebook' object has no attribute 'password'",
     "output_type": "error",
     "traceback": [
      "\u001b[0;31m---------------------------------------------------------------------------\u001b[0m",
      "\u001b[0;31mAttributeError\u001b[0m                            Traceback (most recent call last)",
      "\u001b[0;32m/tmp/ipykernel_39/1523748699.py\u001b[0m in \u001b[0;36m<module>\u001b[0;34m\u001b[0m\n\u001b[0;32m----> 1\u001b[0;31m \u001b[0mu1\u001b[0m\u001b[0;34m.\u001b[0m\u001b[0mpassword\u001b[0m \u001b[0;31m## private attribute can't be called outside the class so showing error\u001b[0m\u001b[0;34m\u001b[0m\u001b[0;34m\u001b[0m\u001b[0m\n\u001b[0m",
      "\u001b[0;31mAttributeError\u001b[0m: 'Facebook' object has no attribute 'password'"
     ]
    }
   ],
   "source": [
    "u1.password ## private attribute can't be called outside the class so showing error"
   ]
  },
  {
   "cell_type": "code",
   "execution_count": 5,
   "id": "428201df",
   "metadata": {},
   "outputs": [
    {
     "ename": "AttributeError",
     "evalue": "'Facebook' object has no attribute '__password'",
     "output_type": "error",
     "traceback": [
      "\u001b[0;31m---------------------------------------------------------------------------\u001b[0m",
      "\u001b[0;31mAttributeError\u001b[0m                            Traceback (most recent call last)",
      "\u001b[0;32m/tmp/ipykernel_39/3703286350.py\u001b[0m in \u001b[0;36m<module>\u001b[0;34m\u001b[0m\n\u001b[0;32m----> 1\u001b[0;31m \u001b[0mu1\u001b[0m\u001b[0;34m.\u001b[0m\u001b[0m__password\u001b[0m\u001b[0;34m\u001b[0m\u001b[0;34m\u001b[0m\u001b[0m\n\u001b[0m",
      "\u001b[0;31mAttributeError\u001b[0m: 'Facebook' object has no attribute '__password'"
     ]
    }
   ],
   "source": [
    "u1.__password "
   ]
  },
  {
   "cell_type": "code",
   "execution_count": 6,
   "id": "78ebc54c",
   "metadata": {},
   "outputs": [
    {
     "data": {
      "text/plain": [
       "'123'"
      ]
     },
     "execution_count": 6,
     "metadata": {},
     "output_type": "execute_result"
    }
   ],
   "source": [
    "# Private class attribute access method\n",
    "u1._Facebook__password #Python is not a pure OOP language.sometimes its break the rules"
   ]
  },
  {
   "cell_type": "markdown",
   "id": "34a59e97",
   "metadata": {},
   "source": [
    "## Getter and Setter"
   ]
  },
  {
   "cell_type": "code",
   "execution_count": 7,
   "id": "58fdd2a9",
   "metadata": {},
   "outputs": [],
   "source": [
    "class Facebook():\n",
    "    def __init__(self,user):\n",
    "        self.user=user #Public\n",
    "        self.__password=\"123\" #private\n",
    "        self.__email=None #Private\n",
    "    ##Setter\n",
    "    def update(self,new_password,new_email):\n",
    "        self.__password=new_password\n",
    "        self.__email=new_email\n",
    "    ##Getter      \n",
    "    def display(self):\n",
    "        return f\"\"\"Welcome Dear {self.user}\n",
    "Your Registration email address is {self.__email}\n",
    "Your Password is {self.__password}\"\"\"\n",
    "    \n",
    "    \n",
    "    \n",
    "    \n",
    "    \n",
    "u1=Facebook(\"ALi\")\n",
    "u2=Facebook(\"Asif\")"
   ]
  },
  {
   "cell_type": "code",
   "execution_count": 8,
   "id": "fc8e5cc6",
   "metadata": {},
   "outputs": [
    {
     "name": "stdout",
     "output_type": "stream",
     "text": [
      "Welcome Dear ALi\n",
      "Your Registration email address is None\n",
      "Your Password is 123\n"
     ]
    }
   ],
   "source": [
    "print(u1.display())"
   ]
  },
  {
   "cell_type": "code",
   "execution_count": 9,
   "id": "da68daa8",
   "metadata": {},
   "outputs": [],
   "source": [
    "u1.update(\"abcerr\",\"masms@jsd\")"
   ]
  },
  {
   "cell_type": "code",
   "execution_count": null,
   "id": "415e50eb",
   "metadata": {},
   "outputs": [],
   "source": []
  },
  {
   "cell_type": "raw",
   "id": "1726bbff",
   "metadata": {},
   "source": [
    " #### We can make the method private also"
   ]
  },
  {
   "cell_type": "code",
   "execution_count": 10,
   "id": "40962c2d",
   "metadata": {},
   "outputs": [],
   "source": [
    "class Facebook():\n",
    "    def __init__(self,user):\n",
    "        self.user=user #Public\n",
    "        self.__password=\"123\" #private\n",
    "        self.__email=None #Private\n",
    "        \n",
    "    def __connectionDB(self):\n",
    "        return \"All connectivity sensitive information\"\n",
    "    ##Setter\n",
    "    def update(self,new_password,new_email):\n",
    "        self.__password=new_password\n",
    "        self.__email=new_email\n",
    "    ##Getter      \n",
    "    def display(self):\n",
    "        a =self.__connectionDB()\n",
    "        return f\"\"\"Welcome Dear {self.user}\n",
    "Your Registration email address is: {self.__email}\n",
    "Your Password is :{self.__password}\n",
    "DB information :{a}\"\"\"\n",
    "    \n",
    "    \n",
    "    \n",
    "    \n",
    "    \n",
    "u1=Facebook(\"ALi\")\n",
    "u2=Facebook(\"Asif\")"
   ]
  },
  {
   "cell_type": "code",
   "execution_count": 11,
   "id": "6e973a7a",
   "metadata": {},
   "outputs": [
    {
     "name": "stdout",
     "output_type": "stream",
     "text": [
      "Welcome Dear ALi\n",
      "Your Registration email address is: None\n",
      "Your Password is :123\n",
      "DB information :All connectivity sensitive information\n"
     ]
    }
   ],
   "source": [
    "print(u1.display())"
   ]
  },
  {
   "cell_type": "markdown",
   "id": "53da63e3",
   "metadata": {},
   "source": [
    "## Abstraction \n",
    "\n",
    "* We can't create object directly from abstract class.But We can use/access all attributes/methods through inheritance concept.\n",
    "\n",
    "* Asi class jiska directly instance Majod na ho\n",
    "\n",
    "* Abstraction is the process of hiding the internal details of an application from the outer world. Abstraction is used to describe things in simple terms. It's used to create a boundary between the application and the client programs\n",
    "\n",
    "* Abstraction is hiding the details and implementation of the code. Encapsulation is hiding the data and controlling the visibility of the code.\n",
    "\n"
   ]
  },
  {
   "cell_type": "code",
   "execution_count": 12,
   "id": "cd44f679",
   "metadata": {},
   "outputs": [
    {
     "name": "stdout",
     "output_type": "stream",
     "text": [
      "Asif\n",
      "Hamza\n"
     ]
    }
   ],
   "source": [
    "#In OLD version of Python 2.7 we use this technique\n",
    "class A: # we don't use () #Abstract class\n",
    "    def __init__(self,name,age):\n",
    "        self.name=name\n",
    "        self.age=age\n",
    "        \n",
    "class B(A):\n",
    "    pass\n",
    "\n",
    "obj1=A(\"Asif\",20) #abstract class\n",
    "obj2=B(\"Hamza\",29)\n",
    "    \n",
    "print(obj1.name)\n",
    " \n",
    "print(obj2.name)"
   ]
  },
  {
   "cell_type": "code",
   "execution_count": 13,
   "id": "6d46bef3",
   "metadata": {},
   "outputs": [
    {
     "ename": "TypeError",
     "evalue": "Can't instantiate abstract class Human with abstract method __init__",
     "output_type": "error",
     "traceback": [
      "\u001b[0;31m---------------------------------------------------------------------------\u001b[0m",
      "\u001b[0;31mTypeError\u001b[0m                                 Traceback (most recent call last)",
      "\u001b[0;32m/tmp/ipykernel_39/1976568392.py\u001b[0m in \u001b[0;36m<module>\u001b[0;34m\u001b[0m\n\u001b[1;32m     13\u001b[0m         \u001b[0mself\u001b[0m\u001b[0;34m.\u001b[0m\u001b[0mage\u001b[0m\u001b[0;34m=\u001b[0m\u001b[0mage\u001b[0m\u001b[0;34m\u001b[0m\u001b[0;34m\u001b[0m\u001b[0m\n\u001b[1;32m     14\u001b[0m \u001b[0;34m\u001b[0m\u001b[0m\n\u001b[0;32m---> 15\u001b[0;31m \u001b[0mp\u001b[0m\u001b[0;34m=\u001b[0m\u001b[0mHuman\u001b[0m\u001b[0;34m(\u001b[0m\u001b[0;34m\"ali\"\u001b[0m\u001b[0;34m,\u001b[0m\u001b[0;36m20\u001b[0m\u001b[0;34m)\u001b[0m \u001b[0;31m#try to create abstract class object\u001b[0m\u001b[0;34m\u001b[0m\u001b[0;34m\u001b[0m\u001b[0m\n\u001b[0m",
      "\u001b[0;31mTypeError\u001b[0m: Can't instantiate abstract class Human with abstract method __init__"
     ]
    }
   ],
   "source": [
    "from abc import ABC, abstractmethod\n",
    "\n",
    "class Human(ABC): #abstract class\n",
    "    @abstractmethod\n",
    "    def __init__(self,name,age):\n",
    "        self.name=name\n",
    "        self.age=age\n",
    "\n",
    "        \n",
    "class Male(Human): #Child Class\n",
    "    def __init__(self,name,age):\n",
    "        self.name=name\n",
    "        self.age=age\n",
    "\n",
    "p=Human(\"ali\",20) #try to create abstract class object \n"
   ]
  },
  {
   "cell_type": "code",
   "execution_count": 14,
   "id": "412885b3",
   "metadata": {},
   "outputs": [],
   "source": [
    "m1=Male(\"ali\",33)"
   ]
  },
  {
   "cell_type": "code",
   "execution_count": null,
   "id": "ff367155",
   "metadata": {},
   "outputs": [],
   "source": []
  },
  {
   "cell_type": "markdown",
   "id": "ee968daa",
   "metadata": {},
   "source": [
    "## FILE HANDLING\n",
    "\n",
    "```\n",
    "                    r     r+   w    w+   a    a+\n",
    "read              | +     +         +          +\n",
    "\n",
    "write             |       +    +    +    +     +\n",
    "\n",
    "write after seek  |       +    +    +\n",
    "\n",
    "create            |            +    +    +     +\n",
    "\n",
    "trunicate         |            +    +\n",
    "\n",
    "position at start | +     +    +    +\n",
    "\n",
    "position at end   |                      +\n",
    "\n",
    "\n",
    "```\n"
   ]
  },
  {
   "cell_type": "markdown",
   "id": "0802fa3c",
   "metadata": {},
   "source": [
    "```\n",
    "#FOR IMAGE\n",
    "import matplotlib.pyplot as plt\n",
    "import matplotlib.image as mpimg\n",
    "\n",
    "img=mpimg.imread('files/a.jpg')# read image\n",
    "# print(img.shape)#\n",
    "plt.imshow(img)# display image\n",
    "\n",
    "```\n",
    "\n",
    "\n",
    "\n",
    "```\n",
    "--------------------------------------------\n",
    "import cv2\n",
    "im = cv2.imread(\"./files/a.jpg\" )\n",
    "im = cv2.cvtColor(im, cv2.COLOR_BGR2RGB)  \n",
    "im.shape\n",
    "plt.imshow(im)\n",
    "```"
   ]
  },
  {
   "cell_type": "markdown",
   "id": "5d71c6f0",
   "metadata": {},
   "source": [
    "```\n",
    "#READ AUDIO FILE\n",
    "import matplotlib.pyplot as plt\n",
    "import numpy as np\n",
    "import wave\n",
    "import sys\n",
    "\n",
    "\n",
    "spf = wave.open(\"./files/audio.wav\", \"r\")\n",
    "# Extract Raw Audio from Wav File\n",
    "signal = spf.readframes(-1)\n",
    "signal = np.fromstring(signal, \"Int16\")\n",
    "\n",
    "plt.figure(1)\n",
    "plt.title(\"Signal Wave...\")\n",
    "plt.plot(signal)\n",
    "plt.show()\n",
    "```"
   ]
  },
  {
   "cell_type": "markdown",
   "id": "1d524761",
   "metadata": {},
   "source": [
    "```\n",
    "Read VIDEO\n",
    "import numpy as np\n",
    "import cv2\n",
    "\n",
    "cap = cv2.VideoCapture(0)\n",
    " \n",
    "while(True):\n",
    "    ret, frame = cap.read()\n",
    "    gray = cv2.cvtColor(frame, cv2.COLOR_BGR2GRAY)\n",
    " \n",
    "    cv2.imshow('frame',gray)\n",
    "    if cv2.waitKey(1) & 0xFF == ord('q'):\n",
    "        break\n",
    "\n",
    "cap.release()\n",
    "cv2.destroyAllWindows()\n",
    "\n",
    "```\n",
    "```\n",
    "---------------------------\n",
    "import cv2\n",
    "\n",
    "cap = cv2.VideoCapture(\"./files/mov_bbb.mp4\")\n",
    "ret, frame = cap.read()\n",
    "while(1):\n",
    "   ret, frame = cap.read()\n",
    "   cv2.imshow('frame',frame)\n",
    "   if cv2.waitKey(2) & 0xFF == ord('q') or ret==False :\n",
    "       cap.release()\n",
    "       cv2.destroyAllWindows()\n",
    "       break\n",
    "   cv2.imshow('frame',frame)\n",
    "```"
   ]
  },
  {
   "cell_type": "markdown",
   "id": "98e8da7e",
   "metadata": {},
   "source": [
    "```\n",
    "#Read Excel file\n",
    "import pandas as pd\n",
    "\n",
    "df = pd.read_excel(\"./files/data.xlsx\")\n",
    "df.head()\n",
    "```\n",
    "\n",
    "```\n",
    "-----------------------\n",
    "df = pd.read_json(\"https://jsonplaceholder.typicode.com/todos/\")\n",
    "\n",
    "\n",
    "```\n"
   ]
  }
 ],
 "metadata": {
  "kernelspec": {
   "display_name": "Python 3 (ipykernel)",
   "language": "python",
   "name": "python3"
  },
  "language_info": {
   "codemirror_mode": {
    "name": "ipython",
    "version": 3
   },
   "file_extension": ".py",
   "mimetype": "text/x-python",
   "name": "python",
   "nbconvert_exporter": "python",
   "pygments_lexer": "ipython3",
   "version": "3.9.6"
  }
 },
 "nbformat": 4,
 "nbformat_minor": 5
}
