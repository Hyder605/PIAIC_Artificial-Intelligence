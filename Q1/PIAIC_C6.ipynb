{
 "cells": [
  {
   "cell_type": "code",
   "execution_count": 5,
   "id": "57eb9501",
   "metadata": {},
   "outputs": [
    {
     "data": {
      "text/plain": [
       "{'name': 'Qasim',\n",
       " 'fname': 'Aslam',\n",
       " 'age': 30,\n",
       " 'skils': ['AI', 'ML'],\n",
       " 0: 'Pakistan'}"
      ]
     },
     "execution_count": 5,
     "metadata": {},
     "output_type": "execute_result"
    }
   ],
   "source": [
    "data={\n",
    "    \"name\":\"Qasim\",\n",
    "    \"fname\": \"Aslam\",\n",
    "    'age': 30,\n",
    "    \"skils\":[\"AI\",\"ML\"],\n",
    "    0:\"Pakistan\"\n",
    "}\n",
    "data"
   ]
  },
  {
   "cell_type": "markdown",
   "id": "8fcd2a1c",
   "metadata": {},
   "source": [
    "### How  to access value from  dictionary\n",
    "* dictname[\"key\"]"
   ]
  },
  {
   "cell_type": "code",
   "execution_count": 44,
   "id": "a82a95ce",
   "metadata": {},
   "outputs": [
    {
     "ename": "NameError",
     "evalue": "name 'data' is not defined",
     "output_type": "error",
     "traceback": [
      "\u001b[0;31m---------------------------------------------------------------------------\u001b[0m",
      "\u001b[0;31mNameError\u001b[0m                                 Traceback (most recent call last)",
      "\u001b[0;32m/tmp/ipykernel_55/419654386.py\u001b[0m in \u001b[0;36m<module>\u001b[0;34m\u001b[0m\n\u001b[0;32m----> 1\u001b[0;31m \u001b[0mdata\u001b[0m\u001b[0;34m[\u001b[0m\u001b[0;34m\"name\"\u001b[0m\u001b[0;34m]\u001b[0m\u001b[0;34m\u001b[0m\u001b[0;34m\u001b[0m\u001b[0m\n\u001b[0m",
      "\u001b[0;31mNameError\u001b[0m: name 'data' is not defined"
     ]
    }
   ],
   "source": [
    "data[\"name\"]"
   ]
  },
  {
   "cell_type": "code",
   "execution_count": 45,
   "id": "0bc74d5d",
   "metadata": {},
   "outputs": [],
   "source": [
    "data={}\n",
    "\n",
    "data[\"name\"]=\"Qasim\"\n",
    "data[\"fname\"]=\"Aslam\"\n"
   ]
  },
  {
   "cell_type": "code",
   "execution_count": 46,
   "id": "2fc39017",
   "metadata": {},
   "outputs": [
    {
     "data": {
      "text/plain": [
       "{'name': 'Qasim', 'fname': 'Aslam'}"
      ]
     },
     "execution_count": 46,
     "metadata": {},
     "output_type": "execute_result"
    }
   ],
   "source": [
    "data"
   ]
  },
  {
   "cell_type": "code",
   "execution_count": 47,
   "id": "e777145b",
   "metadata": {},
   "outputs": [
    {
     "data": {
      "text/plain": [
       "{'name': 'Qasim AI Student', 'fname': 'Aslam'}"
      ]
     },
     "execution_count": 47,
     "metadata": {},
     "output_type": "execute_result"
    }
   ],
   "source": [
    "data[\"name\"]=data[\"name\"] + \" AI Student\"\n",
    "data"
   ]
  },
  {
   "cell_type": "code",
   "execution_count": 48,
   "id": "6b9274d7",
   "metadata": {},
   "outputs": [
    {
     "name": "stdout",
     "output_type": "stream",
     "text": [
      "{'name': 'Qasim AI Student', 'fname': 'Aslam'}\n"
     ]
    }
   ],
   "source": [
    "print(data)"
   ]
  },
  {
   "cell_type": "code",
   "execution_count": null,
   "id": "3b52af2a",
   "metadata": {},
   "outputs": [],
   "source": []
  },
  {
   "cell_type": "code",
   "execution_count": 49,
   "id": "a026aeea",
   "metadata": {},
   "outputs": [
    {
     "data": {
      "text/plain": [
       "{'name': 'Qasim AI Student', 'fname': 'Aslam'}"
      ]
     },
     "execution_count": 49,
     "metadata": {},
     "output_type": "execute_result"
    }
   ],
   "source": [
    "data"
   ]
  },
  {
   "cell_type": "code",
   "execution_count": 53,
   "id": "6ebc268f",
   "metadata": {},
   "outputs": [
    {
     "data": {
      "text/plain": [
       "{'name': 'Qasim',\n",
       " 'fname': 'Aslam',\n",
       " 'age': 30,\n",
       " 'skils': ['AI', 'ML'],\n",
       " 0: 'Pakistan'}"
      ]
     },
     "execution_count": 53,
     "metadata": {},
     "output_type": "execute_result"
    }
   ],
   "source": [
    "data={\n",
    "    \"name\":\"Qasim\",\n",
    "    \"fname\": \"Aslam\",\n",
    "    'age': 30,\n",
    "    \"skils\":[\"AI\",\"ML\"],\n",
    "    0:\"Pakistan\"\n",
    "}\n",
    "data"
   ]
  },
  {
   "cell_type": "code",
   "execution_count": 56,
   "id": "ef834fc4",
   "metadata": {},
   "outputs": [],
   "source": [
    "data2=data.copy() ##Deep copy"
   ]
  },
  {
   "cell_type": "code",
   "execution_count": 58,
   "id": "0e601140",
   "metadata": {},
   "outputs": [
    {
     "data": {
      "text/plain": [
       "{'name': 'Qasim',\n",
       " 'fname': 'Aslam',\n",
       " 'age': 30,\n",
       " 'skils': ['AI', 'ML'],\n",
       " 0: 'Pakistan'}"
      ]
     },
     "execution_count": 58,
     "metadata": {},
     "output_type": "execute_result"
    }
   ],
   "source": [
    "data2"
   ]
  },
  {
   "cell_type": "markdown",
   "id": "495060da",
   "metadata": {},
   "source": [
    "#### From keys"
   ]
  },
  {
   "cell_type": "code",
   "execution_count": 59,
   "id": "2a5d389d",
   "metadata": {},
   "outputs": [],
   "source": [
    "keys=[\"id\",\"name\",\"fname\"]"
   ]
  },
  {
   "cell_type": "code",
   "execution_count": 60,
   "id": "32100b56",
   "metadata": {},
   "outputs": [
    {
     "data": {
      "text/plain": [
       "{'id': None, 'name': None, 'fname': None}"
      ]
     },
     "execution_count": 60,
     "metadata": {},
     "output_type": "execute_result"
    }
   ],
   "source": [
    "dict.fromkeys(keys)"
   ]
  },
  {
   "cell_type": "markdown",
   "id": "556eda6a",
   "metadata": {},
   "source": [
    "### get"
   ]
  },
  {
   "cell_type": "code",
   "execution_count": 62,
   "id": "a9a8977c",
   "metadata": {},
   "outputs": [
    {
     "data": {
      "text/plain": [
       "'Qasim'"
      ]
     },
     "execution_count": 62,
     "metadata": {},
     "output_type": "execute_result"
    }
   ],
   "source": [
    "data.get(\"name\")"
   ]
  },
  {
   "cell_type": "code",
   "execution_count": 64,
   "id": "7caf1a09",
   "metadata": {},
   "outputs": [],
   "source": [
    "data.get('contact')  ## contact is not present ,so basically \"get\" avoid error"
   ]
  },
  {
   "cell_type": "markdown",
   "id": "e2681763",
   "metadata": {},
   "source": [
    "#### items, Keys ,Values"
   ]
  },
  {
   "cell_type": "code",
   "execution_count": 66,
   "id": "546c3cf5",
   "metadata": {},
   "outputs": [
    {
     "data": {
      "text/plain": [
       "dict_items([('name', 'Qasim'), ('fname', 'Aslam'), ('age', 30), ('skils', ['AI', 'ML']), (0, 'Pakistan')])"
      ]
     },
     "execution_count": 66,
     "metadata": {},
     "output_type": "execute_result"
    }
   ],
   "source": [
    "data.items()"
   ]
  },
  {
   "cell_type": "code",
   "execution_count": 67,
   "id": "7e59b4d7",
   "metadata": {},
   "outputs": [
    {
     "data": {
      "text/plain": [
       "dict_keys(['name', 'fname', 'age', 'skils', 0])"
      ]
     },
     "execution_count": 67,
     "metadata": {},
     "output_type": "execute_result"
    }
   ],
   "source": [
    "data.keys()"
   ]
  },
  {
   "cell_type": "code",
   "execution_count": 68,
   "id": "cad154d2",
   "metadata": {},
   "outputs": [
    {
     "data": {
      "text/plain": [
       "dict_values(['Qasim', 'Aslam', 30, ['AI', 'ML'], 'Pakistan'])"
      ]
     },
     "execution_count": 68,
     "metadata": {},
     "output_type": "execute_result"
    }
   ],
   "source": [
    "data.values()"
   ]
  },
  {
   "cell_type": "code",
   "execution_count": 69,
   "id": "677e79b6",
   "metadata": {},
   "outputs": [
    {
     "name": "stdout",
     "output_type": "stream",
     "text": [
      "Qasim\n",
      "Aslam\n",
      "30\n",
      "['AI', 'ML']\n",
      "Pakistan\n"
     ]
    }
   ],
   "source": [
    "for v in data.values():\n",
    "    print(v)"
   ]
  },
  {
   "cell_type": "code",
   "execution_count": 70,
   "id": "96e3e296",
   "metadata": {},
   "outputs": [
    {
     "name": "stdout",
     "output_type": "stream",
     "text": [
      "Qasim\n",
      "30\n"
     ]
    }
   ],
   "source": [
    "for k in [\"name\",'age']:\n",
    "    print(data[k])"
   ]
  },
  {
   "cell_type": "code",
   "execution_count": 72,
   "id": "4d3892d6",
   "metadata": {},
   "outputs": [
    {
     "name": "stdout",
     "output_type": "stream",
     "text": [
      "200 300\n"
     ]
    }
   ],
   "source": [
    "a,b=(200,300) #Unzipping\n",
    "print(a,b)"
   ]
  },
  {
   "cell_type": "code",
   "execution_count": 73,
   "id": "47e614d9",
   "metadata": {},
   "outputs": [
    {
     "name": "stdout",
     "output_type": "stream",
     "text": [
      "('name', 'Qasim')\n",
      "('fname', 'Aslam')\n",
      "('age', 30)\n",
      "('skils', ['AI', 'ML'])\n",
      "(0, 'Pakistan')\n"
     ]
    }
   ],
   "source": [
    "for i in data.items():\n",
    "    print(i)"
   ]
  },
  {
   "cell_type": "code",
   "execution_count": 74,
   "id": "c04abcde",
   "metadata": {},
   "outputs": [
    {
     "name": "stdout",
     "output_type": "stream",
     "text": [
      "name Qasim\n",
      "fname Aslam\n",
      "age 30\n",
      "skils ['AI', 'ML']\n",
      "0 Pakistan\n"
     ]
    }
   ],
   "source": [
    "for k,v in data.items():#)"
   ]
  },
  {
   "cell_type": "markdown",
   "id": "d8ad80e1",
   "metadata": {},
   "source": [
    "### pop"
   ]
  },
  {
   "cell_type": "code",
   "execution_count": 77,
   "id": "19e5d4a5",
   "metadata": {},
   "outputs": [
    {
     "name": "stdout",
     "output_type": "stream",
     "text": [
      "Pakistan\n",
      "None\n"
     ]
    }
   ],
   "source": [
    "#return>>>asa fuction jo call hone ky baad usy kisi variable ma dal sakahin\n",
    "\n",
    "a=print(\"Pakistan\") #non_return\n",
    "print(a)\n",
    "\n"
   ]
  },
  {
   "cell_type": "code",
   "execution_count": 78,
   "id": "e5a4a126",
   "metadata": {},
   "outputs": [
    {
     "name": "stdout",
     "output_type": "stream",
     "text": [
      "8\n"
     ]
    }
   ],
   "source": [
    "a=len(\"Pakistan\") #return functio\n",
    "print(a)"
   ]
  },
  {
   "cell_type": "code",
   "execution_count": 80,
   "id": "9712bff3",
   "metadata": {},
   "outputs": [
    {
     "data": {
      "text/plain": [
       "{'name': 'Qasim',\n",
       " 'fname': 'Aslam',\n",
       " 'age': 30,\n",
       " 'skils': ['AI', 'ML'],\n",
       " 0: 'Pakistan'}"
      ]
     },
     "execution_count": 80,
     "metadata": {},
     "output_type": "execute_result"
    }
   ],
   "source": [
    "data"
   ]
  },
  {
   "cell_type": "code",
   "execution_count": 93,
   "id": "053ba37a",
   "metadata": {},
   "outputs": [
    {
     "ename": "SyntaxError",
     "evalue": "invalid syntax (1857150057.py, line 1)",
     "output_type": "error",
     "traceback": [
      "\u001b[0;36m  File \u001b[0;32m\"/tmp/ipykernel_55/1857150057.py\"\u001b[0;36m, line \u001b[0;32m1\u001b[0m\n\u001b[0;31m    a=del data[\"name\"] ##non return\u001b[0m\n\u001b[0m      ^\u001b[0m\n\u001b[0;31mSyntaxError\u001b[0m\u001b[0;31m:\u001b[0m invalid syntax\n"
     ]
    }
   ],
   "source": [
    "a=del data[\"name\"] ##non return\n",
    "print(a)\n",
    "print(data)"
   ]
  },
  {
   "cell_type": "code",
   "execution_count": 97,
   "id": "4a138fb3",
   "metadata": {},
   "outputs": [
    {
     "data": {
      "text/plain": [
       "{'name': 'Qasim',\n",
       " 'fname': 'Aslam',\n",
       " 'age': 30,\n",
       " 'skils': ['AI', 'ML'],\n",
       " 0: 'Pakistan'}"
      ]
     },
     "execution_count": 97,
     "metadata": {},
     "output_type": "execute_result"
    }
   ],
   "source": [
    "data\n"
   ]
  },
  {
   "cell_type": "code",
   "execution_count": 98,
   "id": "267dc9ff",
   "metadata": {},
   "outputs": [
    {
     "name": "stdout",
     "output_type": "stream",
     "text": [
      "Aslam\n",
      "{'name': 'Qasim', 'age': 30, 'skils': ['AI', 'ML'], 0: 'Pakistan'}\n"
     ]
    }
   ],
   "source": [
    "a=data.pop(\"fname\") ##Return  function..del the item\n",
    "print(a)\n",
    "print(data)"
   ]
  },
  {
   "cell_type": "code",
   "execution_count": 103,
   "id": "50e77d15",
   "metadata": {},
   "outputs": [
    {
     "data": {
      "text/plain": [
       "{'name': 'Qasim',\n",
       " 'fname': 'Aslam',\n",
       " 'age': 30,\n",
       " 'skils': ['AI', 'ML'],\n",
       " 0: 'Pakistan'}"
      ]
     },
     "execution_count": 103,
     "metadata": {},
     "output_type": "execute_result"
    }
   ],
   "source": [
    "data={\n",
    "    \"name\":\"Qasim\",\n",
    "    \"fname\": \"Aslam\",\n",
    "    'age': 30,\n",
    "    \"skils\":[\"AI\",\"ML\"],\n",
    "    0:\"Pakistan\"\n",
    "}\n",
    "data"
   ]
  },
  {
   "cell_type": "code",
   "execution_count": 104,
   "id": "c8b4d281",
   "metadata": {},
   "outputs": [
    {
     "name": "stdout",
     "output_type": "stream",
     "text": [
      "(0, 'Pakistan')\n",
      "{'name': 'Qasim', 'fname': 'Aslam', 'age': 30, 'skils': ['AI', 'ML']}\n"
     ]
    }
   ],
   "source": [
    "a=data.popitem() ##Return  function del>> last item\n",
    "print(a)\n",
    "print(data)"
   ]
  },
  {
   "cell_type": "markdown",
   "id": "a05afd46",
   "metadata": {},
   "source": [
    "# Block Structure"
   ]
  },
  {
   "cell_type": "markdown",
   "id": "506ca08d",
   "metadata": {},
   "source": [
    "## Control Structure\n",
    "Python reserve words\n",
    "* if\n",
    "    * else\n",
    "    * elif\n",
    "       and or not in\n",
    "* while\n",
    "    * break\n",
    "    * continue\n",
    "    * Pass\n",
    "* for\n",
    "     * break\n",
    "     * continue\n",
    "     * pass\n",
    "* try  \n",
    "     * except\n",
    "\n",
    "* def\n",
    "     * def\n",
    "     * class\n",
    "        "
   ]
  },
  {
   "cell_type": "code",
   "execution_count": null,
   "id": "4c63e3eb",
   "metadata": {},
   "outputs": [],
   "source": []
  }
 ],
 "metadata": {
  "kernelspec": {
   "display_name": "Python 3 (ipykernel)",
   "language": "python",
   "name": "python3"
  },
  "language_info": {
   "codemirror_mode": {
    "name": "ipython",
    "version": 3
   },
   "file_extension": ".py",
   "mimetype": "text/x-python",
   "name": "python",
   "nbconvert_exporter": "python",
   "pygments_lexer": "ipython3",
   "version": "3.9.7"
  }
 },
 "nbformat": 4,
 "nbformat_minor": 5
}
