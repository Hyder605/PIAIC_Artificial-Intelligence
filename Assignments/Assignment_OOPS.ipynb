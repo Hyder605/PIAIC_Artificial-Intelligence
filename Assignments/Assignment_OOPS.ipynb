{
 "cells": [
  {
   "cell_type": "markdown",
   "metadata": {},
   "source": [
    "# Assignment No: 1 \n",
    "\n",
    "   ##### *Class 13\n",
    "   ##### *Assignment on Object Oriented Programming\n"
   ]
  },
  {
   "cell_type": "markdown",
   "metadata": {},
   "source": [
    "## Task No: 1\n",
    "\n",
    "\n",
    "#### 1. import mother and father attribute\n",
    "##### 2. add two new attributes in the child constructor"
   ]
  },
  {
   "cell_type": "code",
   "execution_count": 85,
   "metadata": {},
   "outputs": [],
   "source": [
    "class Father():\n",
    "    def __init__(self,name):\n",
    "        self.name=name\n",
    "        self.age=\"27\"\n",
    "        self.weight=\"60kg\"\n",
    "        self.education=\"Masters\"\n",
    "    \n",
    "    def fav_food(self,food):\n",
    "        self.food=food\n",
    "        return f\"Favorite food of {self.name} is {self.food}\"\n",
    "    \n",
    "    def fav_sports(self,sports): \n",
    "        self.sports=sports\n",
    "        return f\"Favourite sport of {self.name} is {self.sports}\"\n",
    "        \n",
    "class Mother():\n",
    "    def __init__(self,name):\n",
    "        self.name=name\n",
    "        self.height=\"5.6 feet\"\n",
    "        self.color=\"white\"\n",
    "    \n",
    "    def fav_institute(self,institute):\n",
    "        self.institute=institute\n",
    "        return f\"Favourite Institute of {self.name} is {self.institute}\"\n",
    "    \n",
    "class Child(Father, Mother):\n",
    "       def __init__(self,name):\n",
    "            super().__init__(name)\n",
    "            self.fav_book =\"Ego is the Enemy\"\n",
    "            self.fav_car = \"Mercedes-Benz\"\n"
   ]
  },
  {
   "cell_type": "code",
   "execution_count": 86,
   "metadata": {},
   "outputs": [
    {
     "name": "stdout",
     "output_type": "stream",
     "text": [
      "Favorite food of Ali is biryani\n",
      "Favourite sport of Ali is Cricket\n",
      "Weight of Ali is60kg\n",
      "Education of Ali isMasters\n"
     ]
    }
   ],
   "source": [
    "a=Father(\"Ali\")\n",
    "print(a.fav_food(\"biryani\"))\n",
    "print(a.fav_sports(\"Cricket\"))\n",
    "print(f\"Weight of {a.name} is\" + a.weight)\n",
    "print(f\"Education of {a.name} is\" +  a.education)"
   ]
  },
  {
   "cell_type": "code",
   "execution_count": 87,
   "metadata": {},
   "outputs": [
    {
     "name": "stdout",
     "output_type": "stream",
     "text": [
      "Favourite Institute of Alia is PIAIC\n",
      "Hair color of Alia iswhite\n",
      "Height of Alia is 5.6 feet\n"
     ]
    }
   ],
   "source": [
    "b=Mother(\"Alia\")\n",
    "print(b.fav_institute(\"PIAIC\"))\n",
    "print(f\"Hair color of {b.name} is\" +b.color)\n",
    "print(f\"Height of {b.name} is \" +b.height)"
   ]
  },
  {
   "cell_type": "code",
   "execution_count": 88,
   "metadata": {},
   "outputs": [],
   "source": [
    "c=Child(\"Zeeshan\")"
   ]
  },
  {
   "cell_type": "code",
   "execution_count": 80,
   "metadata": {},
   "outputs": [
    {
     "data": {
      "text/plain": [
       "'Zeeshan'"
      ]
     },
     "execution_count": 80,
     "metadata": {},
     "output_type": "execute_result"
    }
   ],
   "source": [
    "c.name"
   ]
  },
  {
   "cell_type": "code",
   "execution_count": 89,
   "metadata": {},
   "outputs": [
    {
     "name": "stdout",
     "output_type": "stream",
     "text": [
      "['age', 'education', 'fav_food', 'fav_sports', 'food', 'name', 'sports', 'weight']\n",
      "['color', 'fav_institute', 'height', 'institute', 'name']\n",
      "['age', 'education', 'fav_book', 'fav_car', 'fav_food', 'fav_institute', 'fav_sports', 'name', 'weight']\n"
     ]
    }
   ],
   "source": [
    "print([i for i in dir(a) if \"__\" not in i])\n",
    "print([i for i in dir(b) if \"__\" not in i])\n",
    "print([i for i in dir(c) if \"__\" not in i])"
   ]
  },
  {
   "cell_type": "code",
   "execution_count": null,
   "metadata": {},
   "outputs": [],
   "source": []
  },
  {
   "cell_type": "markdown",
   "metadata": {},
   "source": [
    "## Task: 02\n",
    "\n",
    "*Create operator overloading"
   ]
  },
  {
   "cell_type": "code",
   "execution_count": 23,
   "metadata": {},
   "outputs": [],
   "source": [
    "class Buisness_name():\n",
    "    def __init__(self,b_name,profit,invest):\n",
    "        self.business=b_name\n",
    "        self.profit=profit\n",
    "        self.invest=invest\n",
    "        \n",
    "    def report(self):\n",
    "        return f\"You invested {self.invest} Rupees in {self.buisness} and earned a profit of Rupees {self.profit}\"\n",
    "    \n",
    "    #Operator Overloading\n",
    "    def __add__(self,other):\n",
    "         return f\"The total Overall profit from {self.business} and {other.business} is {self.profit+other.profit}\"\n",
    "        \n",
    "    \n",
    "    "
   ]
  },
  {
   "cell_type": "code",
   "execution_count": 40,
   "metadata": {},
   "outputs": [],
   "source": [
    "b1=Buisness_name(\"Electronics\",200000,150000)\n",
    "b2=Buisness_name(\"Hardare\",500000,400000)"
   ]
  },
  {
   "cell_type": "code",
   "execution_count": 41,
   "metadata": {},
   "outputs": [
    {
     "name": "stdout",
     "output_type": "stream",
     "text": [
      "The total Overall profit from Electronics and Hardare is 700000\n"
     ]
    }
   ],
   "source": [
    "print(b1+b2) #without operator overloading the compiler will give you error because it doesn't know how to add two objects"
   ]
  },
  {
   "cell_type": "code",
   "execution_count": null,
   "metadata": {},
   "outputs": [],
   "source": []
  }
 ],
 "metadata": {
  "kernelspec": {
   "display_name": "Python 3 (ipykernel)",
   "language": "python",
   "name": "python3"
  },
  "language_info": {
   "codemirror_mode": {
    "name": "ipython",
    "version": 3
   },
   "file_extension": ".py",
   "mimetype": "text/x-python",
   "name": "python",
   "nbconvert_exporter": "python",
   "pygments_lexer": "ipython3",
   "version": "3.9.6"
  }
 },
 "nbformat": 4,
 "nbformat_minor": 2
}
